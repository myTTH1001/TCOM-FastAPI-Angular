{
 "cells": [
  {
   "cell_type": "markdown",
   "metadata": {},
   "source": [
    "## AngulerJS"
   ]
  },
  {
   "cell_type": "markdown",
   "metadata": {},
   "source": [
    "#### AngularJS mở rộng HTML\n",
    "- AngularJS mở rộng HTML bằng ng-directives .\n",
    "\n",
    "- Lệnh ng-app xác định ứng dụng AngularJS.\n",
    "\n",
    "- Lệnh ng-model liên kết giá trị của các điều khiển HTML (đầu vào, chọn, vùng văn bản) với dữ liệu ứng dụng.\n",
    "\n",
    "- Lệnh ng-bind liên kết dữ liệu ứng dụng với chế độ xem HTML."
   ]
  },
  {
   "cell_type": "markdown",
   "metadata": {},
   "source": [
    "<div ng-app=\"myApp\" ng-controller=\"myCtrl\">\n",
    "\n",
    "First Name: <input type=\"text\" ng-model=\"firstName\"><br>\n",
    "Last Name: <input type=\"text\" ng-model=\"lastName\"><br>\n",
    "<br>\n",
    "Full Name: {{firstName + \" \" + lastName}}\n",
    "\n",
    "</div>\n",
    "\n",
    "<script>\n",
    "var app = angular.module('myApp', []);\n",
    "app.controller('myCtrl', function($scope) {\n",
    "  $scope.firstName= \"John\";\n",
    "  $scope.lastName= \"Doe\";\n",
    "});\n",
    "</script>"
   ]
  }
 ],
 "metadata": {
  "language_info": {
   "name": "python"
  },
  "orig_nbformat": 4
 },
 "nbformat": 4,
 "nbformat_minor": 2
}
