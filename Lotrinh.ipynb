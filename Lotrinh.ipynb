{
 "cells": [
  {
   "cell_type": "markdown",
   "metadata": {},
   "source": [
    "## EYEFIRE-TCOM \n",
    "#### Backend: FastAPI\n",
    "Chi tiết:\n",
    "- Tìm hiểu về FastAPI. Cài đặt và chạy một webserver với FastAPI\n",
    "- Tìm hiểu về HTTP\n",
    "    - Phương thức Get, Post, Put, Delete.\n",
    "    - Các thành phần của 1 request http: Path, Param, Body, Header\n",
    "- Tìm hiểu về database Postgresql\n",
    "- Viết API xử lý các yêu cầu (CRUD)\n",
    "- Xác thực tài khoản (Login - Logout)\n",
    "- Tương tác với API có yêu cầu xác thực: login rồi mới gọi api, chưa login thì thông báo lỗi. Khi đăng xuất thì không gọi API nữa\n",
    "    - Gọi lại các API ở trên. Khi gọi API yêu cầu ghi log ai đã thao tác CRUD\n",
    "- Khi đã đăng xuất thì không gọi api được nữa(Thông báo lỗi): Gọi lại các api ở trên và báo thất bại vì đã đăng xuất\n",
    "- Tìm hiểu về Cache, sử dụng cache để lưu trữ dữ liệu không phải xứ lý nhiều, có thể trả về ngay lập tức \n",
    "- Theo dõi hệ thống máy tính: \n",
    "    - Lưu thông tin dung lượng ổ cứng, ram, CPU đã sử dụng theo từng phút \n",
    "    \n",
    "    https://prnt.sc/uwsCfAYq_g_s\n",
    "     \n",
    "    https://prnt.sc/WQIlRgVPosSq\n",
    "    - Viết API lấy thông tin trên\n"
   ]
  },
  {
   "cell_type": "markdown",
   "metadata": {},
   "source": [
    "#### Frontend: Angular\n",
    "Chi tiết:\n",
    "- Tìm hiểu Angular. Cài đặt và chạy ứng dụng Angular (có thể sử dụng các UI có sẵn)\n",
    "- Tạo các component, khai báo router, module cho các tính năng cần làm\n",
    "- Sử dụng HTML, CSS để dựng giao diện component\n",
    "- Ghép các api để tương tác với backend trong component\n",
    "- Viết component theo dõi hệ thống: có thể xem thông tin theo ngày, giờ, phút"
   ]
  },
  {
   "cell_type": "markdown",
   "metadata": {},
   "source": [
    "## Bắt đầu"
   ]
  },
  {
   "cell_type": "markdown",
   "metadata": {},
   "source": [
    "#### GET"
   ]
  },
  {
   "cell_type": "markdown",
   "metadata": {},
   "source": [
    "- GET là phương thức được Client gửi dữ liệu lên Sever thông qua đường dẫn URL nằm trên thanh địa chỉ của Browser\n",
    "- Đây là phương thức sử dụng phổ biến mà không cần có request body\n",
    "- Đặc điểm:\n",
    "    - Giới hạn độ dài của các giá trị là 255 kí tự\n",
    "    - Chỉ hỗ trợ các kiểu dữ liệu String\n",
    "    - Có thể lưu vào bộ nhớ đệm cache\n",
    "    - Các tham số đầu vào được lưu trữ trong lịch sử trình duyệt\n",
    "    - Có thể được bookmark (đánh dấu rồi xem sau) do được lưu trong lịch sử trình duyệt"
   ]
  },
  {
   "cell_type": "markdown",
   "metadata": {},
   "source": [
    "#### POST"
   ]
  },
  {
   "cell_type": "markdown",
   "metadata": {},
   "source": [
    "- POST là phương thức gửi dữ liệu đến server giúp bạn có thể thêm mới dữ liệu hoặc cập nhật dữ liệu đã có vào database.\n",
    "- Chúng ta sẽ gửi thông tin cần thêm hoặc cập nhật trong phần body request.\n",
    "- Đặc điểm:\n",
    "    - Dữ liệu cần thêm hoặc cập nhật không được hiển thị trong URL của trình duyệt.\n",
    "    - Dữ liệu không được lưu trong lịch sử trình duyệt.\n",
    "    - Không có hạn chế về độ dài của dữ liệu.\n",
    "    - Hỗ trợ nhiều kiểu dữ liệu như: String, binary, integers,..\n"
   ]
  },
  {
   "cell_type": "markdown",
   "metadata": {},
   "source": [
    "#### PUT và PATCH"
   ]
  },
  {
   "cell_type": "markdown",
   "metadata": {},
   "source": [
    "- PUT được sử dụng để cập nhập dữ liệu đã có trong database.Phải sửa toàn bộ dữ liệu của đối tượng\n",
    "- PATCH được sử dụng để cập nhật dữ liệu đã có trong database. Phải cập nhật một phần dữ liệu của đối tượng"
   ]
  },
  {
   "cell_type": "markdown",
   "metadata": {},
   "source": [
    "#### DELETE"
   ]
  },
  {
   "cell_type": "markdown",
   "metadata": {},
   "source": [
    "- DELETE sẽ xóa dữ liệu của server về tài nguyên thông qua URL. Giống GET, phương thức này không có body request."
   ]
  },
  {
   "cell_type": "markdown",
   "metadata": {},
   "source": [
    "#### Request HEADER"
   ]
  },
  {
   "cell_type": "markdown",
   "metadata": {},
   "source": [
    "- Request HEADER giúp Client có thể gửi yêu cầu lên server. Mỗi yêu cầu sẽ kèm theo các thông số, và các thông số đó được gọi là Header Parameters. \n",
    "- Trình duyệt và server sẽ dựa vào các thông số header này để trả dữ liệu và hiển thị dữ liệu cho phù hợp."
   ]
  },
  {
   "cell_type": "markdown",
   "metadata": {},
   "source": [
    "#### Request BODY"
   ]
  },
  {
   "cell_type": "markdown",
   "metadata": {},
   "source": [
    "- Cho phép client gừi đến yêu cầu bổ sung cần server thực hiện như: tạo mới hoặc cập nhật dữ liệu mà không thể truyền trên Header Parameters.\n",
    "- Request body thường được sử dụng trong các phương thức Post, Put, Patch."
   ]
  }
 ],
 "metadata": {
  "language_info": {
   "name": "python"
  },
  "orig_nbformat": 4
 },
 "nbformat": 4,
 "nbformat_minor": 2
}
