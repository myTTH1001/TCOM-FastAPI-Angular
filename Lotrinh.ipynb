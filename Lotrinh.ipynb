{
 "cells": [
  {
   "cell_type": "markdown",
   "metadata": {},
   "source": [
    "## EYEFIRE-TCOM \n",
    "#### Backend: FastAPI\n",
    "Chi tiết:\n",
    "- Tìm hiểu về FastAPI. Cài đặt và chạy một webserver với FastAPI\n",
    "- Tìm hiểu về HTTP\n",
    "    - Phương thức Get, Post, Put, Delete.\n",
    "    - Các thành phần của 1 request http: Path, Param, Body, Header\n",
    "- Tìm hiểu về database Postgresql\n",
    "- Viết API xử lý các yêu cầu (CRUD)\n",
    "- Xác thực tài khoản (Login - Logout)\n",
    "- Tương tác với API có yêu cầu xác thực: login rồi mới gọi api, chưa login thì thông báo lỗi. Khi đăng xuất thì không gọi API nữa\n",
    "    - Gọi lại các API ở trên. Khi gọi API yêu cầu ghi log ai đã thao tác CRUD\n",
    "- Khi đã đăng xuất thì không gọi api được nữa(Thông báo lỗi): Gọi lại các api ở trên và báo thất bại vì đã đăng xuất\n",
    "- Tìm hiểu về Cache, sử dụng cache để lưu trữ dữ liệu không phải xứ lý nhiều, có thể trả về ngay lập tức \n",
    "- Theo dõi hệ thống máy tính: \n",
    "    - Lưu thông tin dung lượng ổ cứng, ram, CPU đã sử dụng theo từng phút \n",
    "    \n",
    "    https://prnt.sc/uwsCfAYq_g_s\n",
    "     \n",
    "    https://prnt.sc/WQIlRgVPosSq\n",
    "    - Viết API lấy thông tin trên\n"
   ]
  },
  {
   "cell_type": "markdown",
   "metadata": {},
   "source": [
    "#### Frontend: Angular\n",
    "Chi tiết:\n",
    "- Tìm hiểu Angular. Cài đặt và chạy ứng dụng Angular (có thể sử dụng các UI có sẵn)\n",
    "- Tạo các component, khai báo router, module cho các tính năng cần làm\n",
    "- Sử dụng HTML, CSS để dựng giao diện component\n",
    "- Ghép các api để tương tác với backend trong component\n",
    "- Viết component theo dõi hệ thống: có thể xem thông tin theo ngày, giờ, phút"
   ]
  },
  {
   "cell_type": "markdown",
   "metadata": {},
   "source": [
    "## 21/08"
   ]
  },
  {
   "cell_type": "markdown",
   "metadata": {},
   "source": [
    "#### GET"
   ]
  },
  {
   "cell_type": "markdown",
   "metadata": {},
   "source": [
    "- GET là phương thức được Client gửi dữ liệu lên Sever thông qua đường dẫn URL nằm trên thanh địa chỉ của Browser\n",
    "- Đây là phương thức sử dụng phổ biến mà không cần có request body\n",
    "- Đặc điểm:\n",
    "    - Giới hạn độ dài của các giá trị là 255 kí tự\n",
    "    - Chỉ hỗ trợ các kiểu dữ liệu String\n",
    "    - Có thể lưu vào bộ nhớ đệm cache\n",
    "    - Các tham số đầu vào được lưu trữ trong lịch sử trình duyệt\n",
    "    - Có thể được bookmark (đánh dấu rồi xem sau) do được lưu trong lịch sử trình duyệt"
   ]
  },
  {
   "cell_type": "markdown",
   "metadata": {},
   "source": [
    "#### POST"
   ]
  },
  {
   "cell_type": "markdown",
   "metadata": {},
   "source": [
    "- POST là phương thức gửi dữ liệu đến server giúp bạn có thể thêm mới dữ liệu hoặc cập nhật dữ liệu đã có vào database.\n",
    "- Chúng ta sẽ gửi thông tin cần thêm hoặc cập nhật trong phần body request.\n",
    "- Đặc điểm:\n",
    "    - Dữ liệu cần thêm hoặc cập nhật không được hiển thị trong URL của trình duyệt.\n",
    "    - Dữ liệu không được lưu trong lịch sử trình duyệt.\n",
    "    - Không có hạn chế về độ dài của dữ liệu.\n",
    "    - Hỗ trợ nhiều kiểu dữ liệu như: String, binary, integers,..\n"
   ]
  },
  {
   "cell_type": "markdown",
   "metadata": {},
   "source": [
    "#### PUT và PATCH"
   ]
  },
  {
   "cell_type": "markdown",
   "metadata": {},
   "source": [
    "- PUT được sử dụng để cập nhập dữ liệu đã có trong database.Phải sửa toàn bộ dữ liệu của đối tượng\n",
    "- PATCH được sử dụng để cập nhật dữ liệu đã có trong database. Phải cập nhật một phần dữ liệu của đối tượng"
   ]
  },
  {
   "cell_type": "markdown",
   "metadata": {},
   "source": [
    "#### DELETE"
   ]
  },
  {
   "cell_type": "markdown",
   "metadata": {},
   "source": [
    "- DELETE sẽ xóa dữ liệu của server về tài nguyên thông qua URL. Giống GET, phương thức này không có body request."
   ]
  },
  {
   "cell_type": "markdown",
   "metadata": {},
   "source": [
    "#### PATH"
   ]
  },
  {
   "cell_type": "markdown",
   "metadata": {},
   "source": [
    "- PATH là một phần của URL đến một địa chỉ cụ thể webserver"
   ]
  },
  {
   "cell_type": "markdown",
   "metadata": {},
   "source": [
    "#### PARAM"
   ]
  },
  {
   "cell_type": "markdown",
   "metadata": {},
   "source": [
    "- PARAM là những thông tin bạn truyền vào hàm để xử lý một yêu cầu: tham số đường dẫn và tham số truy vấn"
   ]
  },
  {
   "cell_type": "markdown",
   "metadata": {},
   "source": [
    "#### Request HEADER"
   ]
  },
  {
   "cell_type": "markdown",
   "metadata": {},
   "source": [
    "- Request HEADER giúp Client có thể gửi yêu cầu lên server. Mỗi yêu cầu sẽ kèm theo các thông số, và các thông số đó được gọi là Header Parameters. \n",
    "- Trình duyệt và server sẽ dựa vào các thông số header này để trả dữ liệu và hiển thị dữ liệu cho phù hợp."
   ]
  },
  {
   "cell_type": "markdown",
   "metadata": {},
   "source": [
    "#### Request BODY"
   ]
  },
  {
   "cell_type": "markdown",
   "metadata": {},
   "source": [
    "- Cho phép client gừi đến yêu cầu bổ sung cần server thực hiện như: tạo mới hoặc cập nhật dữ liệu mà không thể truyền trên Header Parameters.\n",
    "- Request body thường được sử dụng trong các phương thức Post, Put, Patch."
   ]
  },
  {
   "cell_type": "markdown",
   "metadata": {},
   "source": [
    "## 22/08"
   ]
  },
  {
   "cell_type": "markdown",
   "metadata": {},
   "source": [
    "#### [POSTGRESQL tutorial](https://www.postgresqltutorial.com/)"
   ]
  },
  {
   "cell_type": "markdown",
   "metadata": {},
   "source": [
    "- sudo -u postgresql psql\n",
    "- \\l :danh sách các database\n",
    "- \\h :trợ giúp\n",
    "- \\\\? :trợ giúp những câu lệnh\n",
    "- q thoát khỏi bảng\n",
    "- \\q thoát khỏi cơ sở dữ liệu"
   ]
  },
  {
   "cell_type": "markdown",
   "metadata": {},
   "source": [
    "#### Tạo database\n",
    "    CREATE DATABASE database_name;\n",
    "- Connect to database: \\c database_name\n",
    "#### Tạo bảng : \n",
    "    CREATE TABLE table_name(\n",
    "        column_name + datatype + constraints\n",
    "    );\n",
    "- Hiển thị các bảng: \\d \\dt\n",
    "- [Data type](https://www.postgresql.org/docs/9.5/datatype.html)\n",
    "#### Xóa bảng:\n",
    "    DROP TABLE table_name;"
   ]
  },
  {
   "cell_type": "markdown",
   "metadata": {},
   "source": [
    "#### Thêm dữ liệu\n",
    "    INSERT INTO table_name(col1, col2, ..., coln)\n",
    "    VALUES(val1, val2, ..., valn);"
   ]
  },
  {
   "cell_type": "markdown",
   "metadata": {},
   "source": [
    "#### [Thêm dữ liệu sử dụng Mockaroo](https://www.mockaroo.com/)\n",
    "- rows: số bản ghi\n",
    "- format: SQL\n",
    "- TABLE NAME: table_name\n",
    "- **`check`**: include create table\n",
    "- download data.sql\n",
    "\n",
    "Tại visuaCode: pwd coppy đường dẫn .sql\n",
    "\n",
    "Tại terminal: connect tới database: \\i (path.sql)"
   ]
  },
  {
   "cell_type": "markdown",
   "metadata": {},
   "source": [
    "#### Truy vấn\n",
    "- Lấy tất cả dữ liệu có trong bảng\n",
    "    SELECT * FROM table_name;\n",
    "- Sắp xếp dữ liệu: Order by (DESC giảm dần, ASC tăng dần)\n",
    "    SELECT * FROM table_name ORDER BY col1 DESC;\n",
    "    SELECT * FROM table_name ORDER BY col1 ASC;\n",
    "- Loại giá trị trùng lặp DISTINCT:\n",
    "    SELECT DISTINCT col1 FROM table_name;"
   ]
  },
  {
   "cell_type": "markdown",
   "metadata": {},
   "source": [
    "#### WHERE, AND, LIMIT, OFFSET\n",
    "- WHERE:\n",
    "    1. SELECT * FROM table_name WHERE country = 'Vietnam';\n",
    "    \n",
    "    2. SELECT * FROM table_name WHERE id = 123;\n",
    "- AND:\n",
    "\n",
    "    3. SELECT * FROM table_name WHERE country = 'Vietnam' AND id>123;\n",
    "- LIMIT: giới hạn bản ghi lấy ra. Lấy 5 giá trị đầu tiên\n",
    "\n",
    "    4. SELECT * FROM table_name WHERE country = 'Vietnam' LIMIT 5;\n",
    "- OFFSET: lấy từ giá trị thứ n. Lấy từ bản ghi thứ 5 đến hết\n",
    "\n",
    "    5. SELECT * FROM table_name WHERE country = 'Vietnam' OFFSET 5;"
   ]
  },
  {
   "cell_type": "markdown",
   "metadata": {},
   "source": [
    "#### IN, BETWEEN, IS\n",
    "- IS: \n",
    "    1. SELECT * FROM table_name WHERE country IS 'Vietnam';\n",
    "- IN: trong list giá trị\n",
    "\n",
    "    2. SELECT * FROM table_name WHERE country IN ('Vietnam', 'China', ThaiLan');\n",
    "- BETWEEN: khoảng giữa 2 giá trị\n",
    "\n",
    "    3. SELECT * FROM table_name WHERE id BETWEEN 2 AND 5;"
   ]
  },
  {
   "cell_type": "markdown",
   "metadata": {},
   "source": [
    "#### LIKE, ILIKE, GROUP BY - HAVING\n",
    "- LIKE: Phân biệt hoa thường\n",
    "- ILIKE: Không phân biệt hoa thường \n",
    "Sử dụng % chứa kí tự và _ chỉ 1 kí tự\n",
    "- [Docurment](https://www.postgresql.org/docs/8.3/functions-matching.html)\n",
    "- GROUP BY: Nhóm các giá trị giống nhau theo cột dữ liệu\n",
    "    SELECT country, COUNT(*) FROM table_name GROUP BY country\n",
    "- HAVING: điều kiện, thường đi sau GROUP BY\n",
    "    SELECT country, COUNT(*) FROM table_name GROUP BY country HAVING COUNT()>2"
   ]
  },
  {
   "cell_type": "markdown",
   "metadata": {},
   "source": [
    "#### MIN, MAX, SUM, AVG,..."
   ]
  },
  {
   "cell_type": "markdown",
   "metadata": {},
   "source": [
    "#### ALIAS, COALESCE VÀ NULLIF\n",
    "- ALIAS: Hiển thị tên cột đối với cột chưa các hàm phức tạm\n",
    "- COALESCE: Trả về giá trị đầu tiên #NULL, các đối số phải cùng kiểu\n",
    "- NULLIF: trả về giá trị đầu nếu 2 đối số truyền vào khác nhau\n",
    "\n",
    "ex: NULLIF(x,y)--> return x\n",
    "\n",
    "ex: NULLIF(x,x)--> return null"
   ]
  },
  {
   "cell_type": "markdown",
   "metadata": {},
   "source": [
    "#### DATE, TIME\n",
    "- Lấy ngày-tháng-năm: SELECT NOW()::DATE;\n",
    "- Lấy giờ-phút-giây: SELECT NOW()::TIME;\n",
    "- Chỉ lấy năm dùng EXTRACT: SELECT EXTRACT(YEAR FORM NOW())"
   ]
  },
  {
   "cell_type": "markdown",
   "metadata": {},
   "source": [
    "#### UPDATE, DELETE\n",
    "- UPDATE: Câp nhật dữ liệu\n",
    "    UPDATE table_name SET col1 = 'new_value' WHERE id = 1;\n",
    "- DELETE: Xóa dữ liệu\n",
    "    DELETE FROM table_name WHERE id = 1;\n",
    "Trả về bản ghi vừa cập nhật/xóa RETURNING"
   ]
  }
 ],
 "metadata": {
  "language_info": {
   "name": "python"
  },
  "orig_nbformat": 4
 },
 "nbformat": 4,
 "nbformat_minor": 2
}
