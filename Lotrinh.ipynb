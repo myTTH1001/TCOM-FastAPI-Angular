{
 "cells": [
  {
   "cell_type": "markdown",
   "metadata": {},
   "source": [
    "## EYEFIRE-TCOM \n",
    "#### Backend: FastAPI\n",
    "Chi tiết:\n",
    "- Tìm hiểu về FastAPI. Cài đặt và chạy một webserver với FastAPI\n",
    "- Tìm hiểu về HTTP\n",
    "    - Phương thức Get, Post, Put, Delete.\n",
    "    - Các thành phần của 1 request http: Path, Param, Body, Header\n",
    "- Tìm hiểu về database Postgresql\n",
    "- Viết API xử lý các yêu cầu (CRUD)\n",
    "- Xác thực tài khoản (Login - Logout)\n",
    "- Tương tác với API có yêu cầu xác thực: login rồi mới gọi api, chưa login thì thông báo lỗi. Khi đăng xuất thì không gọi API nữa\n",
    "    - Gọi lại các API ở trên. Khi gọi API yêu cầu ghi log ai đã thao tác CRUD\n",
    "- Khi đã đăng xuất thì không gọi api được nữa(Thông báo lỗi): Gọi lại các api ở trên và báo thất bại vì đã đăng xuất\n",
    "- Tìm hiểu về Cache, sử dụng cache để lưu trữ dữ liệu không phải xứ lý nhiều, có thể trả về ngay lập tức \n",
    "- Theo dõi hệ thống máy tính: \n",
    "    - Lưu thông tin dung lượng ổ cứng, ram, CPU đã sử dụng theo từng phút \n",
    "    \n",
    "    https://prnt.sc/uwsCfAYq_g_s\n",
    "     \n",
    "    https://prnt.sc/WQIlRgVPosSq\n",
    "    - Viết API lấy thông tin trên\n"
   ]
  },
  {
   "cell_type": "markdown",
   "metadata": {},
   "source": [
    "#### Frontend: Angular\n",
    "Chi tiết:\n",
    "- Tìm hiểu Angular. Cài đặt và chạy ứng dụng Angular (có thể sử dụng các UI có sẵn)\n",
    "- Tạo các component, khai báo router, module cho các tính năng cần làm\n",
    "- Sử dụng HTML, CSS để dựng giao diện component\n",
    "- Ghép các api để tương tác với backend trong component\n",
    "- Viết component theo dõi hệ thống: có thể xem thông tin theo ngày, giờ, phút"
   ]
  }
 ],
 "metadata": {
  "language_info": {
   "name": "python"
  },
  "orig_nbformat": 4
 },
 "nbformat": 4,
 "nbformat_minor": 2
}
